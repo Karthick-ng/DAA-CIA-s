{
 "cells": [
  {
   "cell_type": "code",
   "execution_count": null,
   "id": "7f6f8f81",
   "metadata": {},
   "outputs": [],
   "source": [
    "class ParticleSwarmOptimizer:\n",
    "    def __init__(self, model, X, y, num_particles=10, max_iter=100, c1=2.0, c2=2.0, w=0.8, verbose=True):\n",
    "        self.model = model\n",
    "        self.X = X\n",
    "        self.y = y\n",
    "        self.num_particles = num_particles\n",
    "        self.max_iter = max_iter\n",
    "        self.c1 = c1\n",
    "        self.c2 = c2\n",
    "        self.w = w\n",
    "        self.verbose = verbose\n",
    "\n",
    "    def optimize_weights(self):\n",
    "        particles = []\n",
    "        for i in range(self.num_particles):\n",
    "            particle_weights = self.model.get_weights()\n",
    "            particle = {'position': particle_weights, 'velocity': [np.zeros_like(w) for w in particle_weights]}\n",
    "            particles.append(particle)\n",
    "        global_best_position = None\n",
    "        global_best_fitness = float('inf')\n",
    "        for iteration in range(self.max_iter):\n",
    "            for particle in particles:\n",
    "                particle_fitness = self._evaluate_fitness(particle['position'])\n",
    "                if particle_fitness < global_best_fitness:\n",
    "                    global_best_position = particle['position']\n",
    "                    global_best_fitness = particle_fitness\n",
    "                for i, (w, v, p, g) in enumerate(zip(particle_weights, particle['velocity'], particle['position'], global_best_position)):\n",
    "                    v = self.w * v + self.c1 * np.random.rand() * (p - w) + self.c2 * np.random.rand() * (g - w)\n",
    "                    particle['velocity'][i] = v\n",
    "                    particle['position'][i] = w + v\n",
    "            if self.verbose:\n",
    "                print('Iteration {}: global best fitness = {}'.format(iteration, global_best_fitness))\n",
    "        self.model.set_weights(global_best_position)\n",
    "\n",
    "    def _evaluate_fitness(self, weights):\n",
    "        self.model.set_weights(weights)\n",
    "        loss = log_loss(self.y, self.model.predict(self.X))\n",
    "        return loss"
   ]
  }
 ],
 "metadata": {
  "kernelspec": {
   "display_name": "Python 3 (ipykernel)",
   "language": "python",
   "name": "python3"
  },
  "language_info": {
   "codemirror_mode": {
    "name": "ipython",
    "version": 3
   },
   "file_extension": ".py",
   "mimetype": "text/x-python",
   "name": "python",
   "nbconvert_exporter": "python",
   "pygments_lexer": "ipython3",
   "version": "3.9.13"
  }
 },
 "nbformat": 4,
 "nbformat_minor": 5
}
