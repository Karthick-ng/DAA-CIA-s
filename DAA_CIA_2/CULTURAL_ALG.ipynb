{
 "cells": [
  {
   "cell_type": "code",
   "execution_count": 1,
   "id": "88655bb6",
   "metadata": {},
   "outputs": [],
   "source": [
    "class CulturalAlgorithm:\n",
    "    def __init__(self, model, population_size, feature_range, p_accept, iter_count):\n",
    "        self.model = model\n",
    "        self.population_size = population_size\n",
    "        self.feature_range = feature_range\n",
    "        self.p_accept = p_accept\n",
    "        self.iter_count = iter_count\n",
    "        \n",
    "        self.population = []\n",
    "        for i in range(self.population_size):\n",
    "            self.population.append([random.uniform(self.feature_range[0], self.feature_range[1]) \n",
    "                                     for _ in range(self.model.count_params())])\n",
    "        \n",
    "        self.best_solution = None\n",
    "        self.best_fitness = float('-inf')\n",
    "        \n",
    "    def _evaluate_solution(self, solution):\n",
    "        self.model.set_weights(solution)\n",
    "        loss, accuracy = self.model.evaluate(X_valid, y_valid, verbose=0)\n",
    "        return accuracy\n",
    "    \n",
    "    def _update_best_solution(self, solution, fitness):\n",
    "        if fitness > self.best_fitness:\n",
    "            self.best_solution = solution\n",
    "            self.best_fitness = fitness\n",
    "            \n",
    "    def evolve(self):\n",
    "        for i in range(self.iter_count):\n",
    "            selected_solution = random.choice(self.population)\n",
    "            new_solution = []\n",
    "            for j, weight in enumerate(selected_solution):\n",
    "                new_weight = weight + random.uniform(-0.5, 0.5)\n",
    "                if new_weight < self.feature_range[0]:\n",
    "                    new_weight = self.feature_range[0]\n",
    "                elif new_weight > self.feature_range[1]:\n",
    "                    new_weight = self.feature_range[1]\n",
    "                new_solution.append(new_weight)\n",
    "            \n",
    "            new_fitness = self._evaluate_solution(new_solution)\n",
    "            self._update_best_solution(new_solution, new_fitness)\n",
    "            \n",
    "            accept_prob = min(1, self.p_accept * (new_fitness / self.best_fitness))\n",
    "            if random.uniform(0, 1) < accept_prob:\n",
    "                self.population.append(new_solution)\n",
    "            \n",
    "            self.population = sorted(self.population, key=lambda x: self._evaluate_solution(x), reverse=True)[:self.population_size]\n",
    "            \n",
    "        self.model.set_weights(self.best_solution)\n",
    "        \n",
    "        return self.best_solution\n"
   ]
  },
  {
   "cell_type": "code",
   "execution_count": null,
   "id": "3778b2d9",
   "metadata": {},
   "outputs": [],
   "source": []
  }
 ],
 "metadata": {
  "kernelspec": {
   "display_name": "Python 3 (ipykernel)",
   "language": "python",
   "name": "python3"
  },
  "language_info": {
   "codemirror_mode": {
    "name": "ipython",
    "version": 3
   },
   "file_extension": ".py",
   "mimetype": "text/x-python",
   "name": "python",
   "nbconvert_exporter": "python",
   "pygments_lexer": "ipython3",
   "version": "3.9.13"
  }
 },
 "nbformat": 4,
 "nbformat_minor": 5
}
